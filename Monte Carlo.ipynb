{
 "cells": [
  {
   "cell_type": "code",
   "execution_count": 1,
   "id": "4ae0aa32-0435-49fb-aa15-83623cb03fec",
   "metadata": {},
   "outputs": [
    {
     "name": "stdout",
     "output_type": "stream",
     "text": [
      "Defaulting to user installation because normal site-packages is not writeableNote: you may need to restart the kernel to use updated packages.\n",
      "\n",
      "Requirement already satisfied: matplotlib in c:\\programdata\\anaconda3\\lib\\site-packages (3.8.0)\n",
      "Requirement already satisfied: contourpy>=1.0.1 in c:\\programdata\\anaconda3\\lib\\site-packages (from matplotlib) (1.2.0)\n",
      "Requirement already satisfied: cycler>=0.10 in c:\\programdata\\anaconda3\\lib\\site-packages (from matplotlib) (0.11.0)\n",
      "Requirement already satisfied: fonttools>=4.22.0 in c:\\programdata\\anaconda3\\lib\\site-packages (from matplotlib) (4.25.0)\n",
      "Requirement already satisfied: kiwisolver>=1.0.1 in c:\\programdata\\anaconda3\\lib\\site-packages (from matplotlib) (1.4.4)\n",
      "Requirement already satisfied: numpy<2,>=1.21 in c:\\programdata\\anaconda3\\lib\\site-packages (from matplotlib) (1.26.4)\n",
      "Requirement already satisfied: packaging>=20.0 in c:\\programdata\\anaconda3\\lib\\site-packages (from matplotlib) (23.1)\n",
      "Requirement already satisfied: pillow>=6.2.0 in c:\\programdata\\anaconda3\\lib\\site-packages (from matplotlib) (10.2.0)\n",
      "Requirement already satisfied: pyparsing>=2.3.1 in c:\\programdata\\anaconda3\\lib\\site-packages (from matplotlib) (3.0.9)\n",
      "Requirement already satisfied: python-dateutil>=2.7 in c:\\programdata\\anaconda3\\lib\\site-packages (from matplotlib) (2.8.2)\n",
      "Requirement already satisfied: six>=1.5 in c:\\programdata\\anaconda3\\lib\\site-packages (from python-dateutil>=2.7->matplotlib) (1.16.0)\n"
     ]
    }
   ],
   "source": [
    "#pip install matplotlib"
   ]
  },
  {
   "cell_type": "code",
   "execution_count": 2,
   "id": "bdd24f4f-2a1b-4530-ab65-1ab673267d9e",
   "metadata": {},
   "outputs": [
    {
     "name": "stdout",
     "output_type": "stream",
     "text": [
      "Defaulting to user installation because normal site-packages is not writeable\n",
      "Requirement already satisfied: scipy in c:\\programdata\\anaconda3\\lib\\site-packages (1.11.4)\n",
      "Requirement already satisfied: numpy<1.28.0,>=1.21.6 in c:\\programdata\\anaconda3\\lib\\site-packages (from scipy) (1.26.4)\n",
      "Note: you may need to restart the kernel to use updated packages.\n"
     ]
    }
   ],
   "source": [
    "#pip install scipy"
   ]
  },
  {
   "cell_type": "code",
   "execution_count": 3,
   "id": "2b213ab1-8205-44e6-8e4c-86d27f9a91fc",
   "metadata": {},
   "outputs": [
    {
     "name": "stdout",
     "output_type": "stream",
     "text": [
      "Defaulting to user installation because normal site-packages is not writeable\n",
      "Requirement already satisfied: yfinance in c:\\users\\usuario\\appdata\\roaming\\python\\python311\\site-packages (0.2.50)\n",
      "Requirement already satisfied: pandas>=1.3.0 in c:\\programdata\\anaconda3\\lib\\site-packages (from yfinance) (2.1.4)\n",
      "Requirement already satisfied: numpy>=1.16.5 in c:\\programdata\\anaconda3\\lib\\site-packages (from yfinance) (1.26.4)\n",
      "Requirement already satisfied: requests>=2.31 in c:\\programdata\\anaconda3\\lib\\site-packages (from yfinance) (2.31.0)\n",
      "Requirement already satisfied: multitasking>=0.0.7 in c:\\users\\usuario\\appdata\\roaming\\python\\python311\\site-packages (from yfinance) (0.0.11)\n",
      "Requirement already satisfied: lxml>=4.9.1 in c:\\programdata\\anaconda3\\lib\\site-packages (from yfinance) (4.9.3)\n",
      "Requirement already satisfied: platformdirs>=2.0.0 in c:\\programdata\\anaconda3\\lib\\site-packages (from yfinance) (3.10.0)\n",
      "Requirement already satisfied: pytz>=2022.5 in c:\\programdata\\anaconda3\\lib\\site-packages (from yfinance) (2023.3.post1)\n",
      "Requirement already satisfied: frozendict>=2.3.4 in c:\\users\\usuario\\appdata\\roaming\\python\\python311\\site-packages (from yfinance) (2.4.6)\n",
      "Requirement already satisfied: peewee>=3.16.2 in c:\\users\\usuario\\appdata\\roaming\\python\\python311\\site-packages (from yfinance) (3.17.8)\n",
      "Requirement already satisfied: beautifulsoup4>=4.11.1 in c:\\programdata\\anaconda3\\lib\\site-packages (from yfinance) (4.12.2)\n",
      "Requirement already satisfied: html5lib>=1.1 in c:\\users\\usuario\\appdata\\roaming\\python\\python311\\site-packages (from yfinance) (1.1)\n",
      "Requirement already satisfied: soupsieve>1.2 in c:\\programdata\\anaconda3\\lib\\site-packages (from beautifulsoup4>=4.11.1->yfinance) (2.5)\n",
      "Requirement already satisfied: six>=1.9 in c:\\programdata\\anaconda3\\lib\\site-packages (from html5lib>=1.1->yfinance) (1.16.0)\n",
      "Requirement already satisfied: webencodings in c:\\programdata\\anaconda3\\lib\\site-packages (from html5lib>=1.1->yfinance) (0.5.1)\n",
      "Requirement already satisfied: python-dateutil>=2.8.2 in c:\\programdata\\anaconda3\\lib\\site-packages (from pandas>=1.3.0->yfinance) (2.8.2)\n",
      "Requirement already satisfied: tzdata>=2022.1 in c:\\programdata\\anaconda3\\lib\\site-packages (from pandas>=1.3.0->yfinance) (2023.3)\n",
      "Requirement already satisfied: charset-normalizer<4,>=2 in c:\\programdata\\anaconda3\\lib\\site-packages (from requests>=2.31->yfinance) (2.0.4)\n",
      "Requirement already satisfied: idna<4,>=2.5 in c:\\programdata\\anaconda3\\lib\\site-packages (from requests>=2.31->yfinance) (3.4)\n",
      "Requirement already satisfied: urllib3<3,>=1.21.1 in c:\\programdata\\anaconda3\\lib\\site-packages (from requests>=2.31->yfinance) (2.0.7)\n",
      "Requirement already satisfied: certifi>=2017.4.17 in c:\\programdata\\anaconda3\\lib\\site-packages (from requests>=2.31->yfinance) (2024.2.2)\n",
      "Note: you may need to restart the kernel to use updated packages.\n"
     ]
    }
   ],
   "source": [
    "#pip install yfinance"
   ]
  },
  {
   "cell_type": "code",
   "execution_count": 5,
   "id": "19649ec5-962d-4b22-91dd-b7ff2f0fadc9",
   "metadata": {},
   "outputs": [
    {
     "name": "stdout",
     "output_type": "stream",
     "text": [
      "Defaulting to user installation because normal site-packages is not writeable\n",
      "Requirement already satisfied: pandas_datareader in c:\\users\\usuario\\appdata\\roaming\\python\\python311\\site-packages (0.10.0)\n",
      "Requirement already satisfied: lxml in c:\\programdata\\anaconda3\\lib\\site-packages (from pandas_datareader) (4.9.3)\n",
      "Requirement already satisfied: pandas>=0.23 in c:\\programdata\\anaconda3\\lib\\site-packages (from pandas_datareader) (2.1.4)\n",
      "Requirement already satisfied: requests>=2.19.0 in c:\\programdata\\anaconda3\\lib\\site-packages (from pandas_datareader) (2.31.0)\n",
      "Requirement already satisfied: numpy<2,>=1.23.2 in c:\\programdata\\anaconda3\\lib\\site-packages (from pandas>=0.23->pandas_datareader) (1.26.4)\n",
      "Requirement already satisfied: python-dateutil>=2.8.2 in c:\\programdata\\anaconda3\\lib\\site-packages (from pandas>=0.23->pandas_datareader) (2.8.2)\n",
      "Requirement already satisfied: pytz>=2020.1 in c:\\programdata\\anaconda3\\lib\\site-packages (from pandas>=0.23->pandas_datareader) (2023.3.post1)\n",
      "Requirement already satisfied: tzdata>=2022.1 in c:\\programdata\\anaconda3\\lib\\site-packages (from pandas>=0.23->pandas_datareader) (2023.3)\n",
      "Requirement already satisfied: charset-normalizer<4,>=2 in c:\\programdata\\anaconda3\\lib\\site-packages (from requests>=2.19.0->pandas_datareader) (2.0.4)\n",
      "Requirement already satisfied: idna<4,>=2.5 in c:\\programdata\\anaconda3\\lib\\site-packages (from requests>=2.19.0->pandas_datareader) (3.4)\n",
      "Requirement already satisfied: urllib3<3,>=1.21.1 in c:\\programdata\\anaconda3\\lib\\site-packages (from requests>=2.19.0->pandas_datareader) (2.0.7)\n",
      "Requirement already satisfied: certifi>=2017.4.17 in c:\\programdata\\anaconda3\\lib\\site-packages (from requests>=2.19.0->pandas_datareader) (2024.2.2)\n",
      "Requirement already satisfied: six>=1.5 in c:\\programdata\\anaconda3\\lib\\site-packages (from python-dateutil>=2.8.2->pandas>=0.23->pandas_datareader) (1.16.0)\n",
      "Note: you may need to restart the kernel to use updated packages.\n"
     ]
    }
   ],
   "source": [
    "pip install pandas_datareader"
   ]
  },
  {
   "cell_type": "code",
   "execution_count": 6,
   "id": "2fa4dba0-31d5-4125-9358-a84430fa966c",
   "metadata": {},
   "outputs": [],
   "source": [
    "import matplotlib.pyplot as plt\n",
    "import numpy as np\n",
    "import pandas as pd\n",
    "from scipy import stats\n",
    "import yfinance as yf\n",
    "np.random.seed(1984)\n",
    "%matplotlib inline\n",
    "import pandas_datareader as dr\n",
    "from datetime import date, datetime, timedelta\n",
    "plt.style.use(\"ggplot\")"
   ]
  },
  {
   "cell_type": "code",
   "execution_count": 7,
   "id": "a5b7340a-898f-4735-82a6-df611d53d26a",
   "metadata": {},
   "outputs": [
    {
     "data": {
      "text/plain": [
       "0.36352835585530807"
      ]
     },
     "execution_count": 7,
     "metadata": {},
     "output_type": "execute_result"
    }
   ],
   "source": [
    "# Utilizando random para genera números aleatorios.\n",
    "import random\n",
    "random.seed(1984) # semilla para replicar la aleatoriedad\n",
    "random.random() # primer llamado a random"
   ]
  },
  {
   "cell_type": "code",
   "execution_count": 8,
   "id": "5f47a7c7-3984-471d-af77-33745befcf16",
   "metadata": {},
   "outputs": [
    {
     "name": "stdout",
     "output_type": "stream",
     "text": [
      "0.49420568181919666\n",
      "0.33961008717180197\n",
      "0.21648780903913534\n",
      "0.8626522767441037\n",
      "0.8493329421213219\n",
      "0.38578540884489343\n"
     ]
    }
   ],
   "source": [
    "for i in range(6):\n",
    "    print(random.random()) # 5 números aleatorios"
   ]
  },
  {
   "cell_type": "code",
   "execution_count": 9,
   "id": "92415430-4275-47d6-abaf-58b4ca55f7aa",
   "metadata": {},
   "outputs": [
    {
     "name": "stdout",
     "output_type": "stream",
     "text": [
      "0.36352835585530807\n",
      "0.49420568181919666\n",
      "0.33961008717180197\n",
      "0.21648780903913534\n",
      "0.8626522767441037\n",
      "0.8493329421213219\n",
      "0.38578540884489343\n"
     ]
    }
   ],
   "source": [
    "# volviendo a llamar a seed para replicar el mismo resultado aleatorio.\n",
    "random.seed(1984)\n",
    "for i in range(7):\n",
    "    print(random.random()) # Mismos resultados que arriba."
   ]
  },
  {
   "cell_type": "code",
   "execution_count": null,
   "id": "a4228130-65de-4326-b3a0-cd15632de84a",
   "metadata": {},
   "outputs": [],
   "source": [
    "#ENCUENTRA UNA APROXIMACIÓN A PI\n",
    "def mc_pi_aprox(N=10000):\n",
    "    plt.figure(figsize=(8,8))  # tamaño de la figura\n",
    "    x, y = np.random.uniform(-1, 1, size=(2, N))\n",
    "    interior = (x**2 + y**2) <= 1\n",
    "    pi = interior.sum() * 4 / N\n",
    "    error = abs((pi - np.pi) / pi) * 100\n",
    "    exterior = np.invert(interior)\n",
    "    plt.plot(x[interior], y[interior], 'b.')\n",
    "    plt.plot(x[exterior], y[exterior], 'r.')\n",
    "    plt.plot(0, 0, label='$\\hat \\pi$ = {:4.4f}\\nerror = {:4.4f}%'\n",
    "             .format(pi,error), alpha=0)\n",
    "    plt.axis('square')\n",
    "    plt.legend(frameon=True, framealpha=0.9, fontsize=16)\n",
    "\n",
    "mc_pi_aprox()"
   ]
  },
  {
   "cell_type": "code",
   "execution_count": 1,
   "id": "bfdd98fa-b8d8-4268-a817-cc3435b74c00",
   "metadata": {},
   "outputs": [
    {
     "ename": "NameError",
     "evalue": "name 'mc_pi_aprox' is not defined",
     "output_type": "error",
     "traceback": [
      "\u001b[1;31m---------------------------------------------------------------------------\u001b[0m",
      "\u001b[1;31mNameError\u001b[0m                                 Traceback (most recent call last)",
      "Cell \u001b[1;32mIn[1], line 2\u001b[0m\n\u001b[0;32m      1\u001b[0m \u001b[38;5;66;03m# con 1000000 experimentos\u001b[39;00m\n\u001b[1;32m----> 2\u001b[0m mc_pi_aprox(N\u001b[38;5;241m=\u001b[39m\u001b[38;5;241m100000\u001b[39m)\n",
      "\u001b[1;31mNameError\u001b[0m: name 'mc_pi_aprox' is not defined"
     ]
    }
   ],
   "source": [
    "# con 1000000 experimentos\n",
    "mc_pi_aprox(N=100000)"
   ]
  },
  {
   "cell_type": "code",
   "execution_count": 1,
   "id": "9f345dac-43a0-4b7c-9178-0e5851fe9429",
   "metadata": {},
   "outputs": [
    {
     "ename": "NameError",
     "evalue": "name 'np' is not defined",
     "output_type": "error",
     "traceback": [
      "\u001b[1;31m---------------------------------------------------------------------------\u001b[0m",
      "\u001b[1;31mNameError\u001b[0m                                 Traceback (most recent call last)",
      "Cell \u001b[1;32mIn[1], line 2\u001b[0m\n\u001b[0;32m      1\u001b[0m \u001b[38;5;66;03m# Simulación de lanzamiento de un dado 10,000 veces\u001b[39;00m\n\u001b[1;32m----> 2\u001b[0m resultados \u001b[38;5;241m=\u001b[39m np\u001b[38;5;241m.\u001b[39mrandom\u001b[38;5;241m.\u001b[39mrandint(\u001b[38;5;241m1\u001b[39m, \u001b[38;5;241m7\u001b[39m, \u001b[38;5;241m10000\u001b[39m)\n\u001b[0;32m      4\u001b[0m \u001b[38;5;66;03m# Visualización de resultados\u001b[39;00m\n\u001b[0;32m      5\u001b[0m plt\u001b[38;5;241m.\u001b[39mhist(resultados, bins\u001b[38;5;241m=\u001b[39m\u001b[38;5;241m6\u001b[39m, edgecolor\u001b[38;5;241m=\u001b[39m\u001b[38;5;124m'\u001b[39m\u001b[38;5;124mblack\u001b[39m\u001b[38;5;124m'\u001b[39m)\n",
      "\u001b[1;31mNameError\u001b[0m: name 'np' is not defined"
     ]
    }
   ],
   "source": [
    "# Simulación de lanzamiento de un dado 10,000 veces\n",
    "resultados = np.random.randint(1, 7, 10000)\n",
    "\n",
    "# Visualización de resultados\n",
    "plt.hist(resultados, bins=6, edgecolor='black')\n",
    "plt.title('Simulación de Lanzamientos de un Dado')\n",
    "plt.xlabel('Resultado del Dado')\n",
    "plt.ylabel('Frecuencia')\n",
    "plt.show()"
   ]
  },
  {
   "cell_type": "code",
   "execution_count": 2,
   "id": "342e75d4-68ce-4555-a1b4-424496cd12f2",
   "metadata": {},
   "outputs": [
    {
     "ename": "NameError",
     "evalue": "name 'yf' is not defined",
     "output_type": "error",
     "traceback": [
      "\u001b[1;31m---------------------------------------------------------------------------\u001b[0m",
      "\u001b[1;31mNameError\u001b[0m                                 Traceback (most recent call last)",
      "Cell \u001b[1;32mIn[2], line 2\u001b[0m\n\u001b[0;32m      1\u001b[0m \u001b[38;5;66;03m# Descargar datos de una acción\u001b[39;00m\n\u001b[1;32m----> 2\u001b[0m data \u001b[38;5;241m=\u001b[39m yf\u001b[38;5;241m.\u001b[39mdownload(\u001b[38;5;124m'\u001b[39m\u001b[38;5;124mAAPL\u001b[39m\u001b[38;5;124m'\u001b[39m, start\u001b[38;5;241m=\u001b[39m\u001b[38;5;124m'\u001b[39m\u001b[38;5;124m2020-01-01\u001b[39m\u001b[38;5;124m'\u001b[39m, end\u001b[38;5;241m=\u001b[39m\u001b[38;5;124m'\u001b[39m\u001b[38;5;124m2023-01-01\u001b[39m\u001b[38;5;124m'\u001b[39m)\n\u001b[0;32m      3\u001b[0m precios \u001b[38;5;241m=\u001b[39m data[\u001b[38;5;124m'\u001b[39m\u001b[38;5;124mAdj Close\u001b[39m\u001b[38;5;124m'\u001b[39m]\u001b[38;5;241m.\u001b[39mvalues\n\u001b[0;32m      5\u001b[0m \u001b[38;5;66;03m# Simular trayectorias de precios usando Monte Carlo\u001b[39;00m\n",
      "\u001b[1;31mNameError\u001b[0m: name 'yf' is not defined"
     ]
    }
   ],
   "source": [
    "# Descargar datos de una acción\n",
    "data = yf.download('AAPL', start='2020-01-01', end='2023-01-01')\n",
    "precios = data['Adj Close'].values\n",
    "\n",
    "# Simular trayectorias de precios usando Monte Carlo\n",
    "S0 = precios[-1]  # Precio inicial\n",
    "T = 252  # Días en un año\n",
    "mu = np.mean(np.diff(np.log(precios)))  # Rentabilidad media\n",
    "sigma = np.std(np.diff(np.log(precios)))  # Volatilidad\n",
    "n_simulaciones = 1000  # Número de simulaciones\n",
    "trayectorias = np.zeros((T, n_simulaciones))\n",
    "\n",
    "for i in range(n_simulaciones):\n",
    "    trayectorias[:, i] = S0 * np.exp(np.cumsum((mu - 0.5 * sigma ** 2) + sigma * np.random.normal(size=T)))\n",
    "\n",
    "# Visualizar algunas trayectorias\n",
    "for i in range(10):\n",
    "    plt.plot(trayectorias[:, i])\n",
    "\n",
    "plt.title('Simulación de Precios de Acciones')\n",
    "plt.xlabel('Días')\n",
    "plt.ylabel('Precio')\n",
    "plt.show()"
   ]
  },
  {
   "cell_type": "code",
   "execution_count": null,
   "id": "8c1ed9a2-1695-46ae-8838-e0478a3023b1",
   "metadata": {},
   "outputs": [],
   "source": []
  }
 ],
 "metadata": {
  "kernelspec": {
   "display_name": "Python 3 (ipykernel)",
   "language": "python",
   "name": "python3"
  },
  "language_info": {
   "codemirror_mode": {
    "name": "ipython",
    "version": 3
   },
   "file_extension": ".py",
   "mimetype": "text/x-python",
   "name": "python",
   "nbconvert_exporter": "python",
   "pygments_lexer": "ipython3",
   "version": "3.11.7"
  }
 },
 "nbformat": 4,
 "nbformat_minor": 5
}
